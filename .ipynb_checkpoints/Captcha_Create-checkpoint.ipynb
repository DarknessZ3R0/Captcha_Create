{
 "cells": [
  {
   "cell_type": "markdown",
   "metadata": {},
   "source": [
    "# Creacion de Captcha para imagenes\n",
    "\n",
    "\n",
    "##  Programa obtiene un arreglo de imagenes guardadas en una capeta, y escribe en ellas el codigo generado por el programa de generacion de Captcha\n",
    "### Codigo creado por  Efren Mario Gonzalez Lopez 17/07/2019\n",
    "#### Github: https://github.com/DarknessZ3R0/Captcha_Create\n"
   ]
  },
  {
   "cell_type": "markdown",
   "metadata": {},
   "source": [
    "#### Archivos necesarios"
   ]
  },
  {
   "cell_type": "code",
   "execution_count": 3,
   "metadata": {},
   "outputs": [],
   "source": [
    "from captcha.image import ImageCaptcha\n",
    "import matplotlib.pyplot as plt\n",
    "import random\n",
    "import cv2\n",
    "import glob\n",
    "import numpy as np\n",
    "from PIL import Image\n",
    "from PIL import ImageFont\n",
    "from PIL import ImageDraw \n",
    "import os"
   ]
  },
  {
   "cell_type": "markdown",
   "metadata": {},
   "source": [
    "## MENU"
   ]
  },
  {
   "cell_type": "code",
   "execution_count": 17,
   "metadata": {},
   "outputs": [],
   "source": [
    "\n",
    "#image_path = input(\"Directorio de imagenes (Preferencia : ..\\Captcha\\img\\*.jpg )\")\n",
    "#font_path  = input(\"Directorio de Fonts (Preferencia : ..\\Captcha\\\\fonts\\MPC.otf)\")\n",
    "image_path = \"img\\*.jpg\"\n",
    "font_path = \"fonts\\MPC.otf\""
   ]
  },
  {
   "cell_type": "code",
   "execution_count": 19,
   "metadata": {
    "colab": {},
    "colab_type": "code",
    "id": "Z2qNWTRYwsOm",
    "scrolled": true
   },
   "outputs": [
    {
     "name": "stdout",
     "output_type": "stream",
     "text": [
      "2gmi\n",
      "2   g   m   i   \n",
      "img\\Prueba_1.jpg\n",
      "R6oe\n",
      "R   6   o   e   \n",
      "img\\Prueba_2.jpg\n",
      "WLCf\n",
      "W   L   C   f   \n",
      "img\\Prueba_3.jpg\n",
      "ksKm\n",
      "k   s   K   m   \n",
      "img\\Prueba_4.jpg\n",
      "IYiW\n",
      "I   Y   i   W   \n",
      "img\\Prueba_5.jpg\n",
      "X_data shape: (5, 481, 1442, 3)\n"
     ]
    }
   ],
   "source": [
    "number_list = ['0','1','2','3','4','5','6','7','8','9']\n",
    "\n",
    "alphabet_lowercase = ['a','b','c','d','e','f','g','h','i','j','k','l','m','n','o','p','q','r','s','t','u','v','w','x','y','z']\n",
    "\n",
    "alphabet_uppercase = ['A','B','C','D','E','F','G','H','I','J','K','L','M','N','O','P','Q','R','S','T','U','V','W','X','Y','Z']\n",
    "\n",
    "def create_random_captcha_text(captcha_string_size=4):\n",
    "\n",
    "    captcha_string_list = []\n",
    "\n",
    "    base_char = alphabet_lowercase + alphabet_uppercase + number_list\n",
    "\n",
    "    for i in range(captcha_string_size):\n",
    "\n",
    "       \n",
    "        char = random.choice(base_char)\n",
    "\n",
    "       \n",
    "        captcha_string_list.append(char)\n",
    "\n",
    "    captcha_string = ''\n",
    "\n",
    "    \n",
    "    for item in captcha_string_list:\n",
    "        captcha_string += str(item)\n",
    "\n",
    "    return captcha_string\n",
    "\n",
    "\n",
    "\n",
    "\n",
    "#Inicio, creacion de captcha y creacion de la imagen con captcha y guardado con su nombre\n",
    "\n",
    "TEXT_COLOR =(195,38,226)#(238,238,238)\n",
    "SHADOW_COLOR=(238,238,238)#(195,38,226)\n",
    "X_data = []\n",
    "files=glob.glob(image_path) #solo funciona con jpg,\"Probar con PNG y JPEG\"\n",
    "for myFile in files:\n",
    "    if __name__ == '__main__':\n",
    "        # Crear Captcha \n",
    "        captcha_text = create_random_captcha_text()\n",
    "        print(captcha_text) #visualizacion del captcha\n",
    "        \n",
    "    #reacomodo del captcha para la imagen\n",
    "    i=0\n",
    "    j=0\n",
    "    img_captcha=''\n",
    "    for i in range(4):\n",
    "        temp=captcha_text[i]\n",
    "        img_captcha+=str(temp)\n",
    "        j=j+1\n",
    "        img_captcha+=str('   ')#Espacio\n",
    "        j=j+1\n",
    "    #fin del acomodo, y se guarda en otra variable para poder ser usada despues\n",
    "    print(img_captcha)#visualizacion del captcha reacomodado\n",
    "    \n",
    "    #Selecion de tipo de letra, si quieres una en especial, descargar el TTF o OTF y modificar la ultima parte\n",
    "    \n",
    "    print(myFile) #Localiza la imagen en una carpeta\n",
    "    image = cv2.imread (myFile)\n",
    "    X_data.append (image)\n",
    "    img = Image.open(myFile)\n",
    "    draw = ImageDraw.Draw(img)\n",
    "    fnt = ImageFont.truetype(font_path,250)\n",
    "    draw.text((300,100), img_captcha,font=fnt,fill=(TEXT_COLOR),owidth=1,ocolor=(SHADOW_COLOR)) #Posiciones, \"texto a dibujar en la imagen\" ,Tipo de letra,color\n",
    "  \n",
    "    img.save(\"posimg/\"+captcha_text + '.jpg') #Guarda el archivo generado con el nombre del captcha generado original\n",
    "\n",
    "print('X_data shape:', np.array(X_data).shape)\n",
    "\n"
   ]
  },
  {
   "cell_type": "code",
   "execution_count": null,
   "metadata": {},
   "outputs": [],
   "source": []
  },
  {
   "cell_type": "code",
   "execution_count": null,
   "metadata": {},
   "outputs": [],
   "source": []
  }
 ],
 "metadata": {
  "colab": {
   "collapsed_sections": [],
   "name": "Captcha Create.ipynb",
   "provenance": [],
   "version": "0.3.2"
  },
  "kernelspec": {
   "display_name": "Python 3",
   "language": "python",
   "name": "python3"
  },
  "language_info": {
   "codemirror_mode": {
    "name": "ipython",
    "version": 3
   },
   "file_extension": ".py",
   "mimetype": "text/x-python",
   "name": "python",
   "nbconvert_exporter": "python",
   "pygments_lexer": "ipython3",
   "version": "3.7.3"
  }
 },
 "nbformat": 4,
 "nbformat_minor": 1
}
