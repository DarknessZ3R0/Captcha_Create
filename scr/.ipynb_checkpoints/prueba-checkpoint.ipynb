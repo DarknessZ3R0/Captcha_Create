{
 "cells": [
  {
   "cell_type": "code",
   "execution_count": 1,
   "metadata": {},
   "outputs": [],
   "source": [
    "from captcha.image import ImageCaptcha\n",
    "import matplotlib.pyplot as plt\n",
    "import random\n",
    "import cv2\n",
    "import glob\n",
    "import numpy as np\n",
    "from PIL import Image\n",
    "from PIL import ImageFont\n",
    "from PIL import ImageDraw \n",
    "import os"
   ]
  },
  {
   "cell_type": "code",
   "execution_count": 6,
   "metadata": {},
   "outputs": [],
   "source": [
    "image_path = \"..\\img_input\\*.png\"\n",
    "font_path = \"..\\\\fonts\\MPC.otf\""
   ]
  },
  {
   "cell_type": "code",
   "execution_count": 10,
   "metadata": {},
   "outputs": [],
   "source": [
    "number_list = ['0','1','2','3','4','5','6','7','8','9']\n",
    "\n",
    "alphabet_lowercase = ['a','b','c','d','e','f','g','h','i','j','k','l','m','n','o','p','q','r','s','t','u','v','w','x','y','z']\n",
    "\n",
    "alphabet_uppercase = ['A','B','C','D','E','F','G','H','I','J','K','L','M','N','O','P','Q','R','S','T','U','V','W','X','Y','Z']\n",
    "\n",
    "def create_random_captcha_text(captcha_string_size=4):\n",
    "\n",
    "    captcha_string_list = []\n",
    "\n",
    "    base_char = alphabet_lowercase + alphabet_uppercase + number_list\n",
    "\n",
    "    for i in range(captcha_string_size):\n",
    "\n",
    "       \n",
    "        char = random.choice(base_char)\n",
    "\n",
    "       \n",
    "        captcha_string_list.append(char)\n",
    "\n",
    "    captcha_string = ''\n",
    "\n",
    "    \n",
    "    for item in captcha_string_list:\n",
    "        captcha_string += str(item)\n",
    "\n",
    "    return captcha_string"
   ]
  },
  {
   "cell_type": "code",
   "execution_count": 15,
   "metadata": {},
   "outputs": [],
   "source": [
    "#Inicio, creacion de captcha y creacion de la imagen con captcha y guardado con su nombre\n",
    "def img_captcha_creation():\n",
    "    TEXT_COLOR =(195,38,226)#(238,238,238) #Color\n",
    "    SHADOW_COLOR=(238,238,238)#(195,38,226) #Sombra\n",
    "    X_data = []\n",
    "    files=glob.glob(image_path) #solo funciona con jpg,\"Probar con PNG y JPEG\"\n",
    "    for myFile in files:\n",
    "       \n",
    "         # Crear Captcha \n",
    "        captcha_text = create_random_captcha_text()\n",
    "        print(captcha_text) #visualizacion del captcha\n",
    "\n",
    "        #reacomodo del captcha para la imagen\n",
    "        i=0\n",
    "        j=0\n",
    "        img_captcha=''\n",
    "        for i in range(len(captcha_text)):\n",
    "            temp=captcha_text[i]\n",
    "            img_captcha+=str(temp)\n",
    "            j=j+1\n",
    "            img_captcha+=str('   ')#Espacio\n",
    "            j=j+1\n",
    "        #fin del acomodo, y se guarda en otra variable para poder ser usada despues\n",
    "        print(img_captcha)#visualizacion del captcha reacomodado\n",
    "\n",
    "        #Selecion de tipo de letra, si quieres una en especial, descargar el TTF o OTF y modificar la ultima parte\n",
    "\n",
    "        print(myFile) #Localiza la imagen en una carpeta\n",
    "        image = cv2.imread (myFile)\n",
    "        X_data.append (image)\n",
    "        img = Image.open(myFile)\n",
    "        draw = ImageDraw.Draw(img)\n",
    "        fnt = ImageFont.truetype(font_path,250)\n",
    "        draw.text((300,100), img_captcha,font=fnt,fill=(TEXT_COLOR),owidth=1,ocolor=(SHADOW_COLOR)) #Posiciones, \"texto a dibujar en la imagen\" ,Tipo de letra,color\n",
    "\n",
    "        img.save(\"..\\img_output/\"+captcha_text + '.jpg') #Guarda el archivo generado con el nombre del captcha generado original\n",
    "\n",
    "    print('X_data shape:', np.array(X_data).shape)\n",
    "\n",
    "\n",
    "    # In[ ]:\n",
    "    print(\"\\n------------------------- Todo salio perfecto!! -------------------------------\")\n",
    "    "
   ]
  },
  {
   "cell_type": "code",
   "execution_count": 16,
   "metadata": {},
   "outputs": [
    {
     "name": "stdout",
     "output_type": "stream",
     "text": [
      "SA4k\n",
      "S   A   4   k   \n",
      "..\\img_input\\captcha1.png\n",
      "X_data shape: (1, 500, 1500, 3)\n",
      "\n",
      "------------------------- Todo salio perfecto!! -------------------------------\n"
     ]
    }
   ],
   "source": [
    "# In[ ]:\n",
    "img_captcha_creation();\n",
    "\n"
   ]
  },
  {
   "cell_type": "code",
   "execution_count": null,
   "metadata": {},
   "outputs": [],
   "source": []
  },
  {
   "cell_type": "code",
   "execution_count": null,
   "metadata": {},
   "outputs": [],
   "source": []
  }
 ],
 "metadata": {
  "kernelspec": {
   "display_name": "Python 3",
   "language": "python",
   "name": "python3"
  },
  "language_info": {
   "codemirror_mode": {
    "name": "ipython",
    "version": 3
   },
   "file_extension": ".py",
   "mimetype": "text/x-python",
   "name": "python",
   "nbconvert_exporter": "python",
   "pygments_lexer": "ipython3",
   "version": "3.7.3"
  }
 },
 "nbformat": 4,
 "nbformat_minor": 2
}
