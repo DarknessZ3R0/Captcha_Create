{
 "cells": [
  {
   "cell_type": "code",
   "execution_count": 4,
   "metadata": {},
   "outputs": [],
   "source": [
    "from captcha.image import ImageCaptcha\n",
    "import matplotlib.pyplot as plt\n",
    "import random\n",
    "import cv2\n",
    "import glob\n",
    "import numpy as np\n",
    "from PIL import Image\n",
    "from PIL import ImageFont\n",
    "from PIL import ImageDraw \n",
    "import os"
   ]
  },
  {
   "cell_type": "code",
   "execution_count": 167,
   "metadata": {},
   "outputs": [],
   "source": [
    "image_path = \"..\\img_input\\*.jpg\"\n",
    "font_path = \"..\\\\fonts\\MPC.otf\"\n",
    "\n",
    "\n",
    "# In[3]:\n",
    "\n",
    "\n",
    "number_list = ['0','1','2','3','4','5','6','7','8','9']\n",
    "\n",
    "#alphabet_lowercase = ['a','b','c','d','e','f','g','h','i','j','k','l','m','n','o','p','q','r','s','t','u','v','w','x','y','z']\n",
    "\n",
    "alphabet_uppercase = ['A','B','C','D','E','F','G','H','I','J','K','L','M','N','O','P','Q','R','S','T','U','V','W','X','Y','Z']\n",
    "\n",
    "def create_random_captcha_text(captcha_string_size=4):\n",
    "\n",
    "    captcha_string_list = []\n",
    "\n",
    "    #base_char = alphabet_lowercase + alphabet_uppercase + number_list\n",
    "    base_char = alphabet_uppercase + number_list\n",
    "    for i in range(captcha_string_size):\n",
    "\n",
    "       \n",
    "        char = random.choice(base_char)\n",
    "\n",
    "       \n",
    "        captcha_string_list.append(char)\n",
    "\n",
    "    captcha_string = ''\n",
    "\n",
    "    \n",
    "    for item in captcha_string_list:\n",
    "        captcha_string += str(item)\n",
    "\n",
    "    return captcha_string"
   ]
  },
  {
   "cell_type": "code",
   "execution_count": 168,
   "metadata": {},
   "outputs": [],
   "source": [
    "def captcha_img_string():\n",
    "    img_captcha_path=\"..\\img_data\\letras\\*.png\"\n",
    "    img_captcha_pathMins=\"..\\img_data\\letras\\minusculas\\*.png\"\n",
    "    captcha_text = create_random_captcha_text()\n",
    "    #captcha_text = \"A1BC\"\n",
    "    captcha_img=[]\n",
    "\n",
    "    \n",
    "    print(captcha_text)\n",
    "    i=0\n",
    "    for i in range(4):\n",
    "        file=glob.glob(img_captcha_path)\n",
    "        c_string=''\n",
    "        tmp=captcha_text[i]\n",
    "        tmp= tmp+\".png\"\n",
    "        c_string=\"..\\img_data\\letras\\\\\"+tmp\n",
    "        #print(c_string)\n",
    "        for caFile in file:\n",
    "            if caFile == c_string:\n",
    "                captcha_img.append(c_string)\n",
    "                #print(captcha_img)   \n",
    "           \n",
    "           \n",
    "    print(captcha_img)\n",
    "        \n",
    "\n"
   ]
  },
  {
   "cell_type": "code",
   "execution_count": 169,
   "metadata": {},
   "outputs": [
    {
     "name": "stdout",
     "output_type": "stream",
     "text": [
      "2IPI\n",
      "['..\\\\img_data\\\\letras\\\\2.png', '..\\\\img_data\\\\letras\\\\I.png', '..\\\\img_data\\\\letras\\\\P.png', '..\\\\img_data\\\\letras\\\\I.png']\n"
     ]
    }
   ],
   "source": [
    "captcha_img_string();   "
   ]
  },
  {
   "cell_type": "code",
   "execution_count": 163,
   "metadata": {},
   "outputs": [
    {
     "name": "stdout",
     "output_type": "stream",
     "text": [
      "B es mayor\n",
      "B es mayor\n",
      "B es mayor\n",
      "B es mayor\n",
      "A es mayor\n",
      "B es mayor\n",
      "A es mayor\n",
      "B es mayor\n",
      "A es mayor\n",
      "B es mayor\n"
     ]
    }
   ],
   "source": [
    "a=10\n",
    "b=30\n",
    "for i in range(10):\n",
    "    if a<b:\n",
    "        a=a+5\n",
    "        print(\"B es mayor\")\n",
    "    else:\n",
    "        b=b+5\n",
    "        print(\"A es mayor\")\n",
    "    \n",
    "        "
   ]
  },
  {
   "cell_type": "code",
   "execution_count": 99,
   "metadata": {},
   "outputs": [],
   "source": [
    "#Inicio, creacion de captcha y creacion de la imagen con captcha y guardado con su nombre\n",
    "def img_captcha_creation():\n",
    "    TEXT_COLOR =(195,38,226)#(238,238,238)\n",
    "    SHADOW_COLOR=(238,238,238)#(195,38,226)\n",
    "    X_data = []\n",
    "    files=glob.glob(image_path) #solo funciona con jpg,\"Probar con PNG y JPEG\"\n",
    "    for myFile in files:\n",
    "       \n",
    "         # Crear Captcha \n",
    "        captcha_img_text = create_random_captcha_text()\n",
    "        print(captcha_text) #visualizacion del captcha\n",
    "\n",
    "        #reacomodo del captcha para la imagen\n",
    "        i=0\n",
    "        j=0\n",
    "        img_captcha=''\n",
    "        for i in range(3):\n",
    "            temp=captcha_img_text[i]\n",
    "            img_captcha+=str(temp)\n",
    "            j=j+1\n",
    "            img_captcha+=str('   ')#Espacio\n",
    "            j=j+1\n",
    "        #fin del acomodo, y se guarda en otra variable para poder ser usada despues\n",
    "        print(img_captcha)#visualizacion del captcha reacomodado\n",
    "\n",
    "        #Selecion de tipo de letra, si quieres una en especial, descargar el TTF o OTF y modificar la ultima parte\n",
    "\n",
    "        print(myFile) #Localiza la imagen en una carpeta\n",
    "        image = cv2.imread (myFile)\n",
    "        X_data.append (image)\n",
    "        img = Image.open(myFile)\n",
    "        draw = ImageDraw.Draw(img)\n",
    "        fnt = ImageFont.truetype(font_path,250)\n",
    "        draw.text((300,100), img_captcha,font=fnt,fill=(TEXT_COLOR),owidth=1,ocolor=(SHADOW_COLOR)) #Posiciones,\n",
    "        #\"texto a dibujar en la imagen\" ,Tipo de letra,color\n",
    "\n",
    "        img.save(\"..\\img_output/\"+captcha_text + '.jpg') #Guarda el archivo generado con el nombre \n",
    "        #del captcha generado original\n",
    "\n",
    "    print('X_data shape:', np.array(X_data).shape)\n",
    "\n",
    "\n",
    "    # In[ ]:\n",
    "    print(\"\\n------------------------- Todo salio perfecto!! -------------------------------\")\n",
    "    "
   ]
  },
  {
   "cell_type": "code",
   "execution_count": 18,
   "metadata": {},
   "outputs": [
    {
     "name": "stdout",
     "output_type": "stream",
     "text": [
      "QAQG\n",
      "h   e   k   \n",
      "..\\img_input\\Prueba_1.jpg\n",
      "QAQG\n",
      "K   e   l   \n",
      "..\\img_input\\Prueba_2.jpg\n",
      "QAQG\n",
      "L   h   3   \n",
      "..\\img_input\\Prueba_3.jpg\n",
      "QAQG\n",
      "2   j   E   \n",
      "..\\img_input\\Prueba_4.jpg\n",
      "QAQG\n",
      "A   M   Z   \n",
      "..\\img_input\\Prueba_5.jpg\n",
      "X_data shape: (5, 481, 1442, 3)\n",
      "\n",
      "------------------------- Todo salio perfecto!! -------------------------------\n"
     ]
    }
   ],
   "source": [
    "# In[ ]:\n",
    "\n",
    "img_captcha_creation();\n"
   ]
  },
  {
   "cell_type": "code",
   "execution_count": null,
   "metadata": {},
   "outputs": [],
   "source": []
  }
 ],
 "metadata": {
  "kernelspec": {
   "display_name": "Python 3",
   "language": "python",
   "name": "python3"
  },
  "language_info": {
   "codemirror_mode": {
    "name": "ipython",
    "version": 3
   },
   "file_extension": ".py",
   "mimetype": "text/x-python",
   "name": "python",
   "nbconvert_exporter": "python",
   "pygments_lexer": "ipython3",
   "version": "3.7.3"
  }
 },
 "nbformat": 4,
 "nbformat_minor": 2
}
