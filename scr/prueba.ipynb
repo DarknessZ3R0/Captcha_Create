{
 "cells": [
  {
   "cell_type": "code",
   "execution_count": 1,
   "metadata": {},
   "outputs": [],
   "source": [
    "from captcha.image import ImageCaptcha\n",
    "import matplotlib.pyplot as plt\n",
    "import random\n",
    "import cv2\n",
    "import glob\n",
    "import numpy as np\n",
    "from PIL import Image\n",
    "from PIL import ImageFont\n",
    "from PIL import ImageDraw \n",
    "import os"
   ]
  },
  {
   "cell_type": "code",
   "execution_count": 32,
   "metadata": {},
   "outputs": [],
   "source": [
    "image_path = \"..\\img_input\\*.png\"\n",
    "font_path = \"..\\\\fonts\\Minecrafter_Reg.ttf\""
   ]
  },
  {
   "cell_type": "code",
   "execution_count": 33,
   "metadata": {},
   "outputs": [],
   "source": [
    "number_list = ['0','1','2','3','4','5','6','7','8','9']\n",
    "\n",
    "#alphabet_lowercase = ['a','b','c','d','e','f','g','h','i','j','k','l','m','n','o','p','q','r','s','t','u','v','w','x','y','z']\n",
    "\n",
    "alphabet_uppercase = ['A','B','C','D','E','F','G','H','I','J','K','L','M','N','O','P','Q','R','S','T','U','V','W','X','Y','Z']\n",
    "\n",
    "def create_random_captcha_text(captcha_string_size=4):\n",
    "\n",
    "    captcha_string_list = []\n",
    "    base_char =  alphabet_uppercase + number_list\n",
    "    #base_char = alphabet_lowercase + alphabet_uppercase + number_list\n",
    "\n",
    "    for i in range(captcha_string_size):\n",
    "\n",
    "       \n",
    "        char = random.choice(base_char)\n",
    "\n",
    "       \n",
    "        captcha_string_list.append(char)\n",
    "\n",
    "    captcha_string = ''\n",
    "\n",
    "    \n",
    "    for item in captcha_string_list:\n",
    "        captcha_string += str(item)\n",
    "\n",
    "    return captcha_string"
   ]
  },
  {
   "cell_type": "code",
   "execution_count": 91,
   "metadata": {},
   "outputs": [],
   "source": [
    "#Inicio, creacion de captcha y creacion de la imagen con captcha y guardado con su nombre\n",
    "def img_captcha_creation():\n",
    "    TEXT_COLOR =(255,255,255)#(238,238,238) #Color\n",
    "    SHADOW_COLOR=(238,238,238)#(195,38,226) #Sombra\n",
    "    SHADOW_FONT_COLOR=(0,0,0) #Negro\n",
    "    X_data = []\n",
    "    files=glob.glob(image_path) #solo funciona con jpg,\"Probar con PNG y JPEG\"\n",
    "    for myFile in files:\n",
    "       \n",
    "         # Crear Captcha \n",
    "        captcha_text = create_random_captcha_text()\n",
    "        print(captcha_text) #visualizacion del captcha\n",
    "\n",
    "        #reacomodo del captcha para la imagen\n",
    "        i=0\n",
    "        j=0\n",
    "        img_captcha=''\n",
    "        for i in range(len(captcha_text)):\n",
    "            temp=captcha_text[i]\n",
    "            img_captcha+=str(temp)\n",
    "            j=j+1\n",
    "            img_captcha+=str(' ')#Espacio\n",
    "            j=j+1\n",
    "        #fin del acomodo, y se guarda en otra variable para poder ser usada despues\n",
    "        print(img_captcha)#visualizacion del captcha reacomodado\n",
    "\n",
    "        #Selecion de tipo de letra, si quieres una en especial, descargar el TTF o OTF y modificar la ultima parte\n",
    "\n",
    "        print(myFile) #Localiza la imagen en una carpeta\n",
    "        image = cv2.imread (myFile)\n",
    "        X_data.append (image)\n",
    "        img = Image.open(myFile)\n",
    "        img =img.resize((1500,500))\n",
    "        draw = ImageDraw.Draw(img)\n",
    "       # draw2 = ImageDraw.Draw(img)\n",
    "        fnt = ImageFont.truetype(font_path,250)\n",
    "        width, height = img.size \n",
    "         #Posiciones, \"texto a dibujar en la imagen\" ,Tipo de letra,color\n",
    "        x=width/7\n",
    "        y=height/3\n",
    "        tam=10\n",
    "        #thin border\n",
    "        draw.text((x-tam,y), img_captcha,font=fnt,fill=(SHADOW_FONT_COLOR))\n",
    "        draw.text((x+tam,y), img_captcha,font=fnt,fill=(SHADOW_FONT_COLOR))\n",
    "        draw.text((x,y-tam), img_captcha,font=fnt,fill=(SHADOW_FONT_COLOR))\n",
    "        draw.text((x,y+tam), img_captcha,font=fnt,fill=(SHADOW_FONT_COLOR))\n",
    "        ##thicker border\n",
    "        draw.text((x-tam,y-tam), img_captcha,font=fnt,fill=(SHADOW_FONT_COLOR))\n",
    "        draw.text((x+tam,y-tam), img_captcha,font=fnt,fill=(SHADOW_FONT_COLOR))\n",
    "        draw.text((x-tam,y+tam), img_captcha,font=fnt,fill=(SHADOW_FONT_COLOR))\n",
    "        draw.text((x+tam,y+tam), img_captcha,font=fnt,fill=(SHADOW_FONT_COLOR))\n",
    "        \n",
    "        draw.text((x,y), img_captcha,font=fnt,fill=(TEXT_COLOR))#Color base\n",
    "        img.save(\"..\\img_output/\"+captcha_text + '.png') #Guarda el archivo generado con el nombre del captcha generado original\n",
    "\n",
    "    print('X_data shape:', np.array(X_data).shape)\n",
    "\n",
    "\n",
    "    # In[ ]:\n",
    "    print(\"\\n------------------------- Todo salio perfecto!! -------------------------------\")\n",
    "    "
   ]
  },
  {
   "cell_type": "code",
   "execution_count": 92,
   "metadata": {
    "scrolled": true
   },
   "outputs": [
    {
     "name": "stdout",
     "output_type": "stream",
     "text": [
      "EHF6\n",
      "E H F 6 \n",
      "..\\img_input\\2019-07-20_18.37.31.png\n",
      "T6AJ\n",
      "T 6 A J \n",
      "..\\img_input\\2019-07-20_18.44.41.png\n",
      "OUL0\n",
      "O U L 0 \n",
      "..\\img_input\\2019-07-20_18.46.31.png\n",
      "G44F\n",
      "G 4 4 F \n",
      "..\\img_input\\Base_Profile_Screenshot_2019.06.11_-_23.32.34.43.png\n",
      "8PYB\n",
      "8 P Y B \n",
      "..\\img_input\\captcha1.png\n",
      "X_data shape: (5,)\n",
      "\n",
      "------------------------- Todo salio perfecto!! -------------------------------\n"
     ]
    }
   ],
   "source": [
    "# In[ ]:\n",
    "img_captcha_creation();\n",
    "\n"
   ]
  },
  {
   "cell_type": "code",
   "execution_count": null,
   "metadata": {},
   "outputs": [],
   "source": []
  },
  {
   "cell_type": "code",
   "execution_count": null,
   "metadata": {},
   "outputs": [],
   "source": []
  }
 ],
 "metadata": {
  "kernelspec": {
   "display_name": "Python 3",
   "language": "python",
   "name": "python3"
  },
  "language_info": {
   "codemirror_mode": {
    "name": "ipython",
    "version": 3
   },
   "file_extension": ".py",
   "mimetype": "text/x-python",
   "name": "python",
   "nbconvert_exporter": "python",
   "pygments_lexer": "ipython3",
   "version": "3.7.3"
  }
 },
 "nbformat": 4,
 "nbformat_minor": 2
}
